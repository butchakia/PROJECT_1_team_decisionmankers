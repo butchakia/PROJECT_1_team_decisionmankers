{
 "cells": [
  {
   "cell_type": "markdown",
   "id": "a7134e19",
   "metadata": {},
   "source": [
    "# Dataset: Personal Key Indicators of Heart Disease\n",
    "\n",
    "Unfortunately, due to GitHub's file size limits, the dataset files couldn't be uploaded directly to this repository. However, you can access and download the dataset from the following link:\n",
    "\n",
    "[Download Dataset from Kaggle](https://www.kaggle.com/datasets/kamilpytlak/personal-key-indicators-of-heart-disease)\n",
    "\n",
    "### Instructions for Downloading:\n",
    "\n",
    "1. Visit the provided link to the dataset on Kaggle.\n",
    "2. To download the dataset, locate the download button on the upper right-hand side of the page.\n",
    "3. Depending on your requirements, if you need the cleaned dataset, scroll down on the Kaggle page to find it.\n",
    "\n",
    "### Note:\n",
    "\n",
    "I made several attempts to upload or directly link the files here, but due to their size, it wasn't feasible within GitHub's constraints. However, you can easily access the complete dataset via the provided Kaggle link.\n",
    "\n",
    "If you encounter any issues or need further assistance, feel free to reach out.\n",
    "\n",
    "Enjoy exploring the dataset!\n"
   ]
  },
  {
   "cell_type": "code",
   "execution_count": null,
   "id": "93b8c0e8",
   "metadata": {},
   "outputs": [],
   "source": []
  }
 ],
 "metadata": {
  "kernelspec": {
   "display_name": "Python 3 (ipykernel)",
   "language": "python",
   "name": "python3"
  },
  "language_info": {
   "codemirror_mode": {
    "name": "ipython",
    "version": 3
   },
   "file_extension": ".py",
   "mimetype": "text/x-python",
   "name": "python",
   "nbconvert_exporter": "python",
   "pygments_lexer": "ipython3",
   "version": "3.10.13"
  }
 },
 "nbformat": 4,
 "nbformat_minor": 5
}
